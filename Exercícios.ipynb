{
  "nbformat": 4,
  "nbformat_minor": 0,
  "metadata": {
    "colab": {
      "provenance": []
    },
    "kernelspec": {
      "name": "python3",
      "display_name": "Python 3"
    },
    "language_info": {
      "name": "python"
    }
  },
  "cells": [
    {
      "cell_type": "markdown",
      "source": [
        "# Exercício de Dicionário 1:\n",
        "\n",
        "### Crie um dicionário que é uma agenda e coloque nele os seguintes dados: chave (cpf),\n",
        "### nome, idade, telefone. O programa deve ler um número indeterminado de dados, criar a\n",
        "### agenda e imprimir todos os itens do dicionário no formato chave: nome, idade, fone."
      ],
      "metadata": {
        "id": "IYZxb6T4bjRH"
      }
    },
    {
      "cell_type": "code",
      "execution_count": 1,
      "metadata": {
        "colab": {
          "base_uri": "https://localhost:8080/"
        },
        "id": "NP4fJTvnbOE3",
        "outputId": "e0d5b050-e75d-45b6-ee62-9efb141ba9f7"
      },
      "outputs": [
        {
          "output_type": "stream",
          "name": "stdout",
          "text": [
            "Digite o CPF da pessoa (ou deixe em branco para sair): 1111111111\n",
            "Digite o nome da pessoa: Thiago\n",
            "Digite a idade da pessoa: 23\n",
            "Digite o telefone da pessoa: 83999999999\n",
            "Digite o CPF da pessoa (ou deixe em branco para sair): \n",
            "\n",
            "Agenda:\n",
            "1111111111: Thiago, 23 anos, 83999999999\n"
          ]
        }
      ],
      "source": [
        "def main():\n",
        "    agenda = {}\n",
        "\n",
        "    while True:\n",
        "        cpf = input(\"Digite o CPF da pessoa (ou deixe em branco para sair): \")\n",
        "        if not cpf:\n",
        "            break\n",
        "\n",
        "        nome = input(\"Digite o nome da pessoa: \")\n",
        "        idade = int(input(\"Digite a idade da pessoa: \"))\n",
        "        telefone = input(\"Digite o telefone da pessoa: \")\n",
        "\n",
        "        agenda[cpf] = {\n",
        "            \"nome\": nome,\n",
        "            \"idade\": idade,\n",
        "            \"telefone\": telefone\n",
        "        }\n",
        "\n",
        "    print(\"\\nAgenda:\")\n",
        "    for cpf, dados in agenda.items():\n",
        "        print(f\"{cpf}: {dados['nome']}, {dados['idade']} anos, {dados['telefone']}\")\n",
        "\n",
        "if __name__ == \"__main__\":\n",
        "    main()"
      ]
    },
    {
      "cell_type": "markdown",
      "source": [
        "# Exercício de Dicionário 2:\n",
        "\n",
        "### Construa um dicionário com nome, salariobruto, salario liquido,\n",
        "### para número indeterminado de pessoas, nele será calculado o\n",
        "### desconto de 8% do INSS e de 10% para IRPF. Preciso que o\n",
        "### programa seja escrito na Linguagem Python de forma Otimizada..\n",
        "\n",
        "\n"
      ],
      "metadata": {
        "id": "he5miTHob0Gl"
      }
    },
    {
      "cell_type": "code",
      "source": [
        "def calcular_desconto_inss(salario_bruto):\n",
        "    return salario_bruto * 0.08\n",
        "\n",
        "def calcular_desconto_irpf(salario_bruto):\n",
        "    return salario_bruto * 0.10\n",
        "\n",
        "def calcular_salario_liquido(salario_bruto):\n",
        "    desconto_inss = calcular_desconto_inss(salario_bruto)\n",
        "    desconto_irpf = calcular_desconto_irpf(salario_bruto)\n",
        "    salario_liquido = salario_bruto - desconto_inss - desconto_irpf\n",
        "    return salario_liquido\n",
        "\n",
        "def main():\n",
        "    pessoas = []\n",
        "\n",
        "    while True:\n",
        "        nome = input(\"Digite o nome da pessoa (ou deixe em branco para sair): \")\n",
        "        if not nome:\n",
        "            break\n",
        "\n",
        "        salario_bruto = float(input(f\"Digite o salário bruto de {nome}: \"))\n",
        "        salario_liquido = calcular_salario_liquido(salario_bruto)\n",
        "\n",
        "        pessoa = {\n",
        "            \"nome\": nome,\n",
        "            \"salario_bruto\": salario_bruto,\n",
        "            \"salario_liquido\": salario_liquido\n",
        "        }\n",
        "\n",
        "        pessoas.append(pessoa)\n",
        "\n",
        "    for pessoa in pessoas:\n",
        "        print(\"\\nNome:\", pessoa[\"nome\"])\n",
        "        print(\"Salário Bruto:\", pessoa[\"salario_bruto\"])\n",
        "        print(\"Salário Líquido:\", pessoa[\"salario_liquido\"])\n",
        "\n",
        "if __name__ == \"__main__\":\n",
        "    main()\n"
      ],
      "metadata": {
        "colab": {
          "base_uri": "https://localhost:8080/"
        },
        "id": "jF9LGMpAb71Z",
        "outputId": "1ffaaa43-999d-45b4-cf1f-165bfcdf88bb"
      },
      "execution_count": 2,
      "outputs": [
        {
          "output_type": "stream",
          "name": "stdout",
          "text": [
            "Digite o nome da pessoa (ou deixe em branco para sair): Thiago\n",
            "Digite o salário bruto de Thiago: 20000\n",
            "Digite o nome da pessoa (ou deixe em branco para sair): Julio\n",
            "Digite o salário bruto de Julio: 30000\n",
            "Digite o nome da pessoa (ou deixe em branco para sair): Anderson\n",
            "Digite o salário bruto de Anderson: 5000\n",
            "Digite o nome da pessoa (ou deixe em branco para sair): Keyla\n",
            "Digite o salário bruto de Keyla: 3333\n",
            "Digite o nome da pessoa (ou deixe em branco para sair): 555\n",
            "Digite o salário bruto de 555: 6666\n",
            "Digite o nome da pessoa (ou deixe em branco para sair): \n",
            "\n",
            "Nome: Thiago\n",
            "Salário Bruto: 20000.0\n",
            "Salário Líquido: 16400.0\n",
            "\n",
            "Nome: Julio\n",
            "Salário Bruto: 30000.0\n",
            "Salário Líquido: 24600.0\n",
            "\n",
            "Nome: Anderson\n",
            "Salário Bruto: 5000.0\n",
            "Salário Líquido: 4100.0\n",
            "\n",
            "Nome: Keyla\n",
            "Salário Bruto: 3333.0\n",
            "Salário Líquido: 2733.06\n",
            "\n",
            "Nome: 555\n",
            "Salário Bruto: 6666.0\n",
            "Salário Líquido: 5466.12\n"
          ]
        }
      ]
    },
    {
      "cell_type": "markdown",
      "source": [
        "# Exercício de Matriz 1:\n",
        "\n",
        "### Faça um programa em Python para gerar automaticamente numeros entre 0 e 99 de uma cartela de bingo. Sabendo que cada cartela devera conter 5 linhas de 5 numeros, gere estes dados de modo a nao ter numeros repetidos dentro das cartelas. O programa deve exibir na ´\n",
        "### tela a cartela gerada."
      ],
      "metadata": {
        "id": "37bJtb99c8Yj"
      }
    },
    {
      "cell_type": "code",
      "source": [
        "import random\n",
        "\n",
        "def gerar_cartela():\n",
        "    cartela = []\n",
        "\n",
        "    for _ in range(5):\n",
        "        linha = []\n",
        "        while len(linha) < 5:\n",
        "            numero = random.randint(0, 99)\n",
        "            if numero not in linha:\n",
        "                linha.append(numero)\n",
        "        linha.sort()\n",
        "        cartela.append(linha)\n",
        "\n",
        "    return cartela\n",
        "\n",
        "def mostrar_cartela(cartela):\n",
        "    for linha in cartela:\n",
        "        print(\" \".join([str(numero).zfill(2) for numero in linha]))\n",
        "\n",
        "def main():\n",
        "    cartela = gerar_cartela()\n",
        "\n",
        "    print(\"Cartela de Bingo:\")\n",
        "    mostrar_cartela(cartela)\n",
        "\n",
        "if __name__ == \"__main__\":\n",
        "    main()\n",
        "\n"
      ],
      "metadata": {
        "colab": {
          "base_uri": "https://localhost:8080/"
        },
        "id": "CgTSrk8Jc9X1",
        "outputId": "1531784d-5c80-400a-c204-5b74d1da6883"
      },
      "execution_count": 4,
      "outputs": [
        {
          "output_type": "stream",
          "name": "stdout",
          "text": [
            "Cartela de Bingo:\n",
            "05 11 14 27 55\n",
            "03 48 57 87 91\n",
            "05 14 23 33 55\n",
            "15 16 47 68 77\n",
            "05 08 35 60 95\n"
          ]
        }
      ]
    },
    {
      "cell_type": "markdown",
      "source": [
        "# Exercício de Matriz 2:\n",
        "\n",
        "### Faça um Programa em Python que Leia uma matriz 10 x 3 com as notas de 10 alunos em 3 provas. Em seguida, escreva o numero de alunos cuja pior nota foi na prova 1, o número de alunos cuja pior nota foi na prova 2, e o numero de alunos cuja pior nota foi na prova 3. Em caso de empate das piores notas de um aluno, o critério de desempate  e arbitrário, mas o aluno deve ser contabilizado apenas uma vez.\n",
        "\n"
      ],
      "metadata": {
        "id": "tFhq2jXMci8C"
      }
    },
    {
      "cell_type": "code",
      "source": [
        "def main():\n",
        "    notas = []\n",
        "\n",
        "    for i in range(10):\n",
        "        aluno = []\n",
        "        for j in range(3):\n",
        "            nota = float(input(f\"Digite a nota do aluno {i + 1} na prova {j + 1}: \"))\n",
        "            aluno.append(nota)\n",
        "        notas.append(aluno)\n",
        "\n",
        "    pior_nota_prova1 = pior_nota_prova2 = pior_nota_prova3 = 0\n",
        "\n",
        "    for i in range(10):\n",
        "        pior_nota = min(notas[i])\n",
        "        if pior_nota == notas[i][0]:\n",
        "            pior_nota_prova1 += 1\n",
        "        elif pior_nota == notas[i][1]:\n",
        "            pior_nota_prova2 += 1\n",
        "        elif pior_nota == notas[i][2]:\n",
        "            pior_nota_prova3 += 1\n",
        "\n",
        "    print(f\"Número de alunos com a pior nota na prova 1: {pior_nota_prova1}\")\n",
        "    print(f\"Número de alunos com a pior nota na prova 2: {pior_nota_prova2}\")\n",
        "    print(f\"Número de alunos com a pior nota na prova 3: {pior_nota_prova3}\")\n",
        "\n",
        "if __name__ == \"__main__\":\n",
        "    main()"
      ],
      "metadata": {
        "colab": {
          "base_uri": "https://localhost:8080/"
        },
        "id": "8bE6CJOLcpPJ",
        "outputId": "fb2221fe-3a32-4ac3-f5c3-42e16327fc99"
      },
      "execution_count": 17,
      "outputs": [
        {
          "output_type": "stream",
          "name": "stdout",
          "text": [
            "Digite a nota do aluno 1 na prova 1: 7\n",
            "Digite a nota do aluno 1 na prova 2: 7\n",
            "Digite a nota do aluno 1 na prova 3: 7\n",
            "Digite a nota do aluno 2 na prova 1: 5\n",
            "Digite a nota do aluno 2 na prova 2: 8\n",
            "Digite a nota do aluno 2 na prova 3: 9\n",
            "Digite a nota do aluno 3 na prova 1: 7\n",
            "Digite a nota do aluno 3 na prova 2: 5\n",
            "Digite a nota do aluno 3 na prova 3: 9\n",
            "Digite a nota do aluno 4 na prova 1: 7\n",
            "Digite a nota do aluno 4 na prova 2: 6\n",
            "Digite a nota do aluno 4 na prova 3: 7\n",
            "Digite a nota do aluno 5 na prova 1: 4\n",
            "Digite a nota do aluno 5 na prova 2: 7\n",
            "Digite a nota do aluno 5 na prova 3: 8\n",
            "Digite a nota do aluno 6 na prova 1: 4\n",
            "Digite a nota do aluno 6 na prova 2: 4\n",
            "Digite a nota do aluno 6 na prova 3: 6\n",
            "Digite a nota do aluno 7 na prova 1: 7\n",
            "Digite a nota do aluno 7 na prova 2: 8\n",
            "Digite a nota do aluno 7 na prova 3: 9\n",
            "Digite a nota do aluno 8 na prova 1: 10\n",
            "Digite a nota do aluno 8 na prova 2: 9\n",
            "Digite a nota do aluno 8 na prova 3: 10\n",
            "Digite a nota do aluno 9 na prova 1: 7\n",
            "Digite a nota do aluno 9 na prova 2: 9\n",
            "Digite a nota do aluno 9 na prova 3: 10\n",
            "Digite a nota do aluno 10 na prova 1: 3\n",
            "Digite a nota do aluno 10 na prova 2: 0\n",
            "Digite a nota do aluno 10 na prova 3: 1\n",
            "Número de alunos com a pior nota na prova 1: 6\n",
            "Número de alunos com a pior nota na prova 2: 4\n",
            "Número de alunos com a pior nota na prova 3: 0\n"
          ]
        }
      ]
    },
    {
      "cell_type": "markdown",
      "source": [
        "# Exercício de Vetor 1:\n",
        "\n",
        "### lê um vetor de 8 posições e, em seguida, lê dois valores X e Y quaisquer correspondentes a duas posições no vetor. O programa então imprime a soma dos valores encontrados nas respectivas posições X e Y."
      ],
      "metadata": {
        "id": "-BBd9aHedmuk"
      }
    },
    {
      "cell_type": "code",
      "source": [
        "def main():\n",
        "    try:\n",
        "        # Declara um vetor de 8 posições e lê os valores do usuário\n",
        "        vetor = [int(input(\"Digite o valor da posição {}: \".format(i))) for i in range(8)]\n",
        "\n",
        "        # Lê os valores X e Y\n",
        "        x = int(input(\"Digite o valor de X: \"))\n",
        "        y = int(input(\"Digite o valor de Y: \"))\n",
        "\n",
        "        # Calcula a soma dos valores nas posições X e Y\n",
        "        soma = vetor[x] + vetor[y]\n",
        "\n",
        "        # Imprime a soma\n",
        "        print(\"A soma dos valores nas posições {} e {} é {}.\".format(x, y, soma))\n",
        "    except ValueError:\n",
        "        print(\"Por favor, insira um valor inteiro válido.\")\n",
        "    except IndexError:\n",
        "        print(\"Índices X ou Y estão fora do alcance do vetor.\")\n",
        "\n",
        "if __name__ == \"__main__\":\n",
        "    main()"
      ],
      "metadata": {
        "colab": {
          "base_uri": "https://localhost:8080/"
        },
        "id": "kPL8f7cwdm4q",
        "outputId": "a7ea6679-da3a-4fbc-cf6b-4913771b848a"
      },
      "execution_count": 12,
      "outputs": [
        {
          "output_type": "stream",
          "name": "stdout",
          "text": [
            "Digite o valor da posição 0: 10\n",
            "Digite o valor da posição 1: 2\n",
            "Digite o valor da posição 2: 3\n",
            "Digite o valor da posição 3: 6\n",
            "Digite o valor da posição 4: 8\n",
            "Digite o valor da posição 5: 2\n",
            "Digite o valor da posição 6: 8\n",
            "Digite o valor da posição 7: 5\n",
            "Digite o valor de X: 0\n",
            "Digite o valor de Y: 4\n",
            "A soma dos valores nas posições 0 e 4 é 18.\n"
          ]
        }
      ]
    },
    {
      "cell_type": "markdown",
      "source": [
        "# Exercício de Vetor 2:\n",
        "\n",
        "### Faça um programa em Python que receba do usuario\n",
        "### um vetor com 10 posições. Em seguida devera ser\n",
        "### impresso o maior e o menor elemento do vetor."
      ],
      "metadata": {
        "id": "nt9BSuGBd6G6"
      }
    },
    {
      "cell_type": "code",
      "source": [
        "\n",
        "def main():\n",
        "    vetor = []\n",
        "\n",
        "    # Recebe os valores para o vetor\n",
        "    print(\"Digite 10 números inteiros para o vetor:\")\n",
        "    for i in range(10):\n",
        "        numero = int(input(f\"Digite o {i + 1}º número: \"))\n",
        "        vetor.append(numero)\n",
        "\n",
        "    # Encontra o maior e o menor elemento do vetor\n",
        "    maior = max(vetor)\n",
        "    menor = min(vetor)\n",
        "\n",
        "    # Mostra o maior e o menor elemento\n",
        "    print(\"\\nO maior elemento do vetor é:\", maior)\n",
        "    print(\"O menor elemento do vetor é:\", menor)\n",
        "\n",
        "if __name__ == \"__main__\":\n",
        "    main()"
      ],
      "metadata": {
        "colab": {
          "base_uri": "https://localhost:8080/"
        },
        "id": "WMBTCJ9zd6S4",
        "outputId": "10f7d863-d5d0-4cc6-fcfc-8da9395c48e8"
      },
      "execution_count": 13,
      "outputs": [
        {
          "output_type": "stream",
          "name": "stdout",
          "text": [
            "Digite 10 números inteiros para o vetor:\n",
            "Digite o 1º número: 3\n",
            "Digite o 2º número: 4\n",
            "Digite o 3º número: 7\n",
            "Digite o 4º número: 1\n",
            "Digite o 5º número: 9\n",
            "Digite o 6º número: 10\n",
            "Digite o 7º número: 5\n",
            "Digite o 8º número: 100\n",
            "Digite o 9º número: 3\n",
            "Digite o 10º número: 356\n",
            "\n",
            "O maior elemento do vetor é: 356\n",
            "O menor elemento do vetor é: 1\n"
          ]
        }
      ]
    },
    {
      "cell_type": "markdown",
      "source": [
        "# Exercício de Vetor 3:\n",
        "\n",
        "### Faça um programa em Python que receba do usuario dois vetores, ´ A e B, com 10 numeros inteiros cada. Crie um novo vetor denominado C calculando C = A - B. Mostre na tela os dados\n",
        "### do vetor C.\n"
      ],
      "metadata": {
        "id": "VcXIEX98eKe0"
      }
    },
    {
      "cell_type": "code",
      "source": [
        "def main():\n",
        "    A = []\n",
        "    B = []\n",
        "\n",
        "    # Recebe os valores par4a o vetor A\n",
        "    print(\"Digite 10 números inteiros para o vetor A:\")\n",
        "    for i in range(10):\n",
        "        numero = int(input(f\"Digite o {i + 1}º número para A: \"))\n",
        "        A.append(numero)\n",
        "\n",
        "    # Recebe os valores para o vetor B\n",
        "    print(\"\\nDigite 10 números inteiros para o vetor B:\")\n",
        "    for i in range(10):\n",
        "        numero = int(input(f\"Digite o {i + 1}º número para B: \"))\n",
        "        B.append(numero)\n",
        "\n",
        "    # Calcula o vetor C como a diferença entre A e B\n",
        "    C = [A[i] - B[i] for i in range(10)]\n",
        "\n",
        "    # Mostra os valores do vetor C\n",
        "    print(\"\\nValores do vetor C (C = A - B):\", C)\n",
        "\n",
        "if __name__ == \"__main__\":\n",
        "    main()\n",
        "\n"
      ],
      "metadata": {
        "colab": {
          "base_uri": "https://localhost:8080/"
        },
        "id": "cvKKM4z8eKpf",
        "outputId": "0bf163ff-64c0-4d6d-f560-a073740e9968"
      },
      "execution_count": 14,
      "outputs": [
        {
          "output_type": "stream",
          "name": "stdout",
          "text": [
            "Digite 10 números inteiros para o vetor A:\n",
            "Digite o 1º número para A: 3\n",
            "Digite o 2º número para A: 6\n",
            "Digite o 3º número para A: 10\n",
            "Digite o 4º número para A: 4\n",
            "Digite o 5º número para A: 99\n",
            "Digite o 6º número para A: 65\n",
            "Digite o 7º número para A: 36\n",
            "Digite o 8º número para A: 854\n",
            "Digite o 9º número para A: 64\n",
            "Digite o 10º número para A: 83\n",
            "\n",
            "Digite 10 números inteiros para o vetor B:\n",
            "Digite o 1º número para B: 12\n",
            "Digite o 2º número para B: 3\n",
            "Digite o 3º número para B: 56\n",
            "Digite o 4º número para B: 754\n",
            "Digite o 5º número para B: 90\n",
            "Digite o 6º número para B: 35\n",
            "Digite o 7º número para B: 87\n",
            "Digite o 8º número para B: 15\n",
            "Digite o 9º número para B: 26\n",
            "Digite o 10º número para B: 64\n",
            "\n",
            "Valores do vetor C (C = A - B): [-9, 3, -46, -750, 9, 30, -51, 839, 38, 19]\n"
          ]
        }
      ]
    },
    {
      "cell_type": "markdown",
      "source": [
        "# Exercício de Vetor 4:\n",
        "\n",
        "### Faça um programa em Python que receba 6 numeros inteiros e mostre: ´\n",
        "###  • Os numeros pares digitados;\n",
        "###  • A soma dos numeros pares digitados;\n",
        "###  • Os numeros   ımpares digitados;\n",
        "###  • A quantidade de numeros  ımpares"
      ],
      "metadata": {
        "id": "4uGYc_XUekTQ"
      }
    },
    {
      "cell_type": "code",
      "source": [
        "def main():\n",
        "    numeros = []\n",
        "\n",
        "    for i in range(6):\n",
        "        numero = int(input(\"Digite o {}º número inteiro: \".format(i + 1)))\n",
        "        numeros.append(numero)\n",
        "\n",
        "    pares = []\n",
        "    impares = []\n",
        "\n",
        "    for numero in numeros:\n",
        "        if numero % 2 == 0:\n",
        "            pares.append(numero)\n",
        "        else:\n",
        "            impares.append(numero)\n",
        "\n",
        "    print(\"\\nNúmeros pares digitados:\", pares)\n",
        "    if pares:\n",
        "        print(\"Soma dos números pares:\", sum(pares))\n",
        "    else:\n",
        "        print(\"Nenhum número par foi digitado.\")\n",
        "\n",
        "    print(\"\\nNúmeros ímpares digitados:\", impares)\n",
        "    print(\"Quantidade de números ímpares:\", len(impares))\n",
        "\n",
        "if __name__ == \"__main__\":\n",
        "    main()"
      ],
      "metadata": {
        "colab": {
          "base_uri": "https://localhost:8080/"
        },
        "id": "YelIbUMIekcY",
        "outputId": "e809fa34-48cd-40c0-fba8-971262598c91"
      },
      "execution_count": 15,
      "outputs": [
        {
          "output_type": "stream",
          "name": "stdout",
          "text": [
            "Digite o 1º número inteiro: 45\n",
            "Digite o 2º número inteiro: 64\n",
            "Digite o 3º número inteiro: 26\n",
            "Digite o 4º número inteiro: 85\n",
            "Digite o 5º número inteiro: 43\n",
            "Digite o 6º número inteiro: 64\n",
            "\n",
            "Números pares digitados: [64, 26, 64]\n",
            "Soma dos números pares: 154\n",
            "\n",
            "Números ímpares digitados: [45, 85, 43]\n",
            "Quantidade de números ímpares: 3\n"
          ]
        }
      ]
    }
  ]
}